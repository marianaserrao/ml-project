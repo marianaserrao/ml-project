{
 "cells": [
  {
   "cell_type": "code",
   "execution_count": 1,
   "metadata": {},
   "outputs": [],
   "source": [
    "import torch\n",
    "import torchvision.transforms.v2 as T\n",
    "\n",
    "import numpy as np\n",
    "import cv2, PIL\n",
    "from pandas import DataFrame\n",
    "from tqdm import tqdm\n",
    "from sklearn.model_selection import train_test_split\n",
    "\n",
    "from sklearn import datasets\n",
    "from sklearn.model_selection import train_test_split\n",
    "from sklearn import svm\n",
    "\n",
    "from skimage.feature import hog\n",
    "from sklearn.model_selection import cross_val_score\n"
   ]
  },
  {
   "cell_type": "code",
   "execution_count": 2,
   "metadata": {},
   "outputs": [
    {
     "data": {
      "text/plain": [
       "'cpu'"
      ]
     },
     "execution_count": 2,
     "metadata": {},
     "output_type": "execute_result"
    }
   ],
   "source": [
    "device = 'cuda' if torch.cuda.is_available() else 'cpu'\n",
    "device"
   ]
  },
  {
   "cell_type": "markdown",
   "metadata": {},
   "source": [
    "### Data Load"
   ]
  },
  {
   "cell_type": "code",
   "execution_count": 3,
   "metadata": {},
   "outputs": [
    {
     "data": {
      "text/plain": [
       "(6254,)"
      ]
     },
     "execution_count": 3,
     "metadata": {},
     "output_type": "execute_result"
    }
   ],
   "source": [
    "X_train = np.load('data/classification1/Xtrain_Classification1.npy')\n",
    "y_train = np.load('data/classification1/ytrain_Classification1.npy')\n",
    "x_test = np.load('data/classification1/Xtest_Classification1.npy')\n",
    "y_train.shape"
   ]
  },
  {
   "cell_type": "markdown",
   "metadata": {},
   "source": [
    "### Data Reshape and Split"
   ]
  },
  {
   "cell_type": "code",
   "execution_count": 4,
   "metadata": {},
   "outputs": [
    {
     "name": "stdout",
     "output_type": "stream",
     "text": [
      "torch.Size([1764, 3, 28, 28])\n"
     ]
    }
   ],
   "source": [
    "data_shape = (-1,28,28,3)\n",
    "X_train = X_train.reshape(data_shape)/255.\n",
    "X_train = torch.FloatTensor(np.transpose(X_train, (0, 3, 1, 2))).to(device)\n",
    "x_test = x_test.reshape(data_shape)/255.\n",
    "x_test = torch.FloatTensor(np.transpose(x_test, (0, 3, 1, 2))).to(device)\n",
    "print(x_test.shape)"
   ]
  },
  {
   "cell_type": "code",
   "execution_count": 5,
   "metadata": {},
   "outputs": [
    {
     "name": "stdout",
     "output_type": "stream",
     "text": [
      "torch.Size([5003, 3, 28, 28]) torch.Size([1251, 3, 28, 28]) (5003,) (1251,)\n",
      "<built-in method type of Tensor object at 0x0000029D6B0E1910>\n"
     ]
    }
   ],
   "source": [
    "X_train, X_val, y_train, y_val = train_test_split(X_train, y_train, test_size=0.2)\n",
    "\n",
    "print(X_train.shape, X_val.shape, y_train.shape, y_val.shape)\n",
    "print(X_train.type)"
   ]
  },
  {
   "cell_type": "code",
   "execution_count": 6,
   "metadata": {},
   "outputs": [],
   "source": [
    "# No SVM você treina o modelo sobre as características da imagem e \n",
    "features = []\n",
    "labels = []\n",
    "\n",
    "features_val = []\n",
    "labels_val = []\n",
    "\n",
    "features_test = []\n",
    "labels_test = []\n",
    "\n",
    "# Aplicando HOG sobre X_train\n",
    "for i in range(X_train.shape[0]):\n",
    "    image_tensor = X_train[i] # imagem da iteração\n",
    "    image_np = image_tensor.numpy() #tensor --> numpy\n",
    "    hog_features = hog(image_np, pixels_per_cell=(8, 8),channel_axis=0)#características HOG da imagem\n",
    "    features.append(hog_features)\n",
    "X_train_features = np.array(features) #array numpy\n",
    "\n",
    "\n",
    "# Aplicando HOG sobre X_validation\n",
    "for i in range(X_val.shape[0]):\n",
    "    image_tensor = X_val[i] # imagem da iteração\n",
    "    image_np = image_tensor.numpy() #tensor --> numpy\n",
    "    hog_features_val = hog(image_np, pixels_per_cell=(8, 8),channel_axis=0)#características HOG da imagem\n",
    "    features_val.append(hog_features_val)\n",
    "X_val_features = np.array(features_val) #array numpy\n",
    "\n",
    "# Aplicando HOG sobre x_test\n",
    "for i in range(x_test.shape[0]):\n",
    "    image_tensor = x_test[i] # imagem da iteração\n",
    "    image_np = image_tensor.numpy() #tensor --> numpy\n",
    "    hog_features_test = hog(image_np, pixels_per_cell=(8, 8),channel_axis=0)#características HOG da imagem\n",
    "    features_test.append(hog_features_test)\n",
    "X_test_features = np.array(features_test) #array numpy"
   ]
  },
  {
   "cell_type": "code",
   "execution_count": 8,
   "metadata": {},
   "outputs": [],
   "source": [
    "\n",
    "# Crie o classificador SVM\n",
    "clf = svm.SVC(gamma=0.001,C=100) # necessário trazer acaracterísticas das imagens para colocar no SVM\n",
    "\n",
    "# Treine o modelo SVM\n",
    "clf.fit(X_train_features, y_train)\n",
    "\n",
    "y_pred = clf.predict(X_test_features)"
   ]
  },
  {
   "cell_type": "code",
   "execution_count": null,
   "metadata": {},
   "outputs": [],
   "source": [
    "from sklearn.svm import SVC\n",
    "from sklearn.metrics import accuracy_score, precision_score, recall_score, f1_score, confusion_matrix\n",
    "\n",
    "# Validation\n",
    "\n",
    "# Acurácia\n",
    "accuracy = accuracy_score(x_test, y_pred)\n",
    "print(f\"Acurácia: {accuracy * 100:.2f}%\")\n",
    "\n",
    "# Precisão\n",
    "precision = precision_score(y_test, y_pred, average='weighted')\n",
    "print(f\"Precisão: {precision * 100:.2f}%\")\n",
    "\n",
    "# Revocação (Recall)\n",
    "recall = recall_score(y_test, y_pred, average='weighted')\n",
    "print(f\"Revocação (Recall): {recall * 100:.2f}%\")\n",
    "\n",
    "# F1-score\n",
    "f1 = f1_score(y_test, y_pred, average='weighted')\n",
    "print(f\"F1-score: {f1 * 100:.2f}%\")\n",
    "\n",
    "# Matriz de Confusão\n",
    "confusion = confusion_matrix(y_test, y_pred)\n",
    "print(\"Matriz de Confusão:\")\n",
    "print(confusion)\n",
    "Neste código, as métricas de acurácia, precisão, revocação (recall) e F1-score são calculadas usando as funções do scikit-learn. Além disso, a matriz de confusão é gerada para fornecer informações detalhadas sobre as previsões do modelo. Certifique-se de ajustar o valor do parâmetro average nas funções de precisão, revocação e F1-score de acordo com os requisitos do seu problema (por exemplo, 'weighted', 'micro', 'macro', etc.). Essa seleção depende da natureza dos seus dados e das classes de destino.\n",
    "\n",
    "\n",
    "\n",
    "\n",
    "\n"
   ]
  },
  {
   "cell_type": "markdown",
   "metadata": {},
   "source": [
    "### Teste 1"
   ]
  },
  {
   "cell_type": "code",
   "execution_count": null,
   "metadata": {},
   "outputs": [
    {
     "data": {
      "text/plain": [
       "(torch.Size([5003, 3, 28, 28]),\n",
       " torch.Size([1251, 3, 28, 28]),\n",
       " (5003,),\n",
       " (1251,))"
      ]
     },
     "execution_count": 7,
     "metadata": {},
     "output_type": "execute_result"
    }
   ],
   "source": [
    "X_train, X_val, y_train, y_val = train_test_split(X_train, y_train, test_size=0.2)\n",
    "X_train.shape, X_val.shape, y_train.shape, y_val.shape"
   ]
  },
  {
   "cell_type": "markdown",
   "metadata": {},
   "source": [
    "### Data Augmentation"
   ]
  },
  {
   "cell_type": "code",
   "execution_count": null,
   "metadata": {},
   "outputs": [
    {
     "data": {
      "text/plain": [
       "0.0    1082\n",
       "1.0     169\n",
       "Name: count, dtype: int64"
      ]
     },
     "execution_count": 8,
     "metadata": {},
     "output_type": "execute_result"
    }
   ],
   "source": [
    "y_train_df = DataFrame(y_train)\n",
    "y_val_df = DataFrame(y_val)\n",
    "\n",
    "y_val_df.value_counts()"
   ]
  }
 ],
 "metadata": {
  "kernelspec": {
   "display_name": "venv",
   "language": "python",
   "name": "python3"
  },
  "language_info": {
   "codemirror_mode": {
    "name": "ipython",
    "version": 3
   },
   "file_extension": ".py",
   "mimetype": "text/x-python",
   "name": "python",
   "nbconvert_exporter": "python",
   "pygments_lexer": "ipython3",
   "version": "3.11.3"
  }
 },
 "nbformat": 4,
 "nbformat_minor": 2
}
