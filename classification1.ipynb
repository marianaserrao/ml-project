{
 "cells": [
  {
   "cell_type": "code",
   "execution_count": 117,
   "metadata": {},
   "outputs": [],
   "source": [
    "import torch\n",
    "import torchvision.transforms.v2 as T\n",
    "\n",
    "import numpy as np\n",
    "import cv2, PIL\n",
    "from pandas import DataFrame\n",
    "from tqdm import tqdm\n",
    "from sklearn.model_selection import train_test_split"
   ]
  },
  {
   "cell_type": "code",
   "execution_count": 118,
   "metadata": {},
   "outputs": [
    {
     "data": {
      "text/plain": [
       "'cpu'"
      ]
     },
     "execution_count": 118,
     "metadata": {},
     "output_type": "execute_result"
    }
   ],
   "source": [
    "device = 'cuda' if torch.cuda.is_available() else 'cpu'\n",
    "device"
   ]
  },
  {
   "cell_type": "markdown",
   "metadata": {},
   "source": [
    "### Data Load"
   ]
  },
  {
   "cell_type": "code",
   "execution_count": 119,
   "metadata": {},
   "outputs": [
    {
     "data": {
      "text/plain": [
       "(6254, 2352)"
      ]
     },
     "execution_count": 119,
     "metadata": {},
     "output_type": "execute_result"
    }
   ],
   "source": [
    "X_train = np.load('data/classification1/Xtrain_Classification1.npy')\n",
    "y_train = np.load('data/classification1/ytrain_Classification1.npy')\n",
    "X_train.shape"
   ]
  },
  {
   "cell_type": "markdown",
   "metadata": {},
   "source": [
    "### Data Reshape and Split"
   ]
  },
  {
   "cell_type": "code",
   "execution_count": 120,
   "metadata": {},
   "outputs": [
    {
     "data": {
      "text/plain": [
       "torch.Size([6254, 3, 28, 28])"
      ]
     },
     "execution_count": 120,
     "metadata": {},
     "output_type": "execute_result"
    }
   ],
   "source": [
    "data_shape = (-1,28,28,3)\n",
    "X_train = X_train.reshape(data_shape)/255.\n",
    "X_train = torch.FloatTensor(np.transpose(X_train, (0, 3, 1, 2))).to(device)\n",
    "X_train.shape"
   ]
  },
  {
   "cell_type": "code",
   "execution_count": 121,
   "metadata": {},
   "outputs": [
    {
     "data": {
      "text/plain": [
       "(torch.Size([5003, 3, 28, 28]),\n",
       " torch.Size([1251, 3, 28, 28]),\n",
       " (5003,),\n",
       " (1251,))"
      ]
     },
     "execution_count": 121,
     "metadata": {},
     "output_type": "execute_result"
    }
   ],
   "source": [
    "X_train, X_val, y_train, y_val = train_test_split(X_train, y_train, test_size=0.2)\n",
    "X_train.shape, X_val.shape, y_train.shape, y_val.shape"
   ]
  },
  {
   "cell_type": "markdown",
   "metadata": {},
   "source": [
    "### Data Augmentation"
   ]
  },
  {
   "cell_type": "code",
   "execution_count": 133,
   "metadata": {},
   "outputs": [
    {
     "data": {
      "text/plain": [
       "0.0    1092\n",
       "1.0     159\n",
       "Name: count, dtype: int64"
      ]
     },
     "execution_count": 133,
     "metadata": {},
     "output_type": "execute_result"
    }
   ],
   "source": [
    "y_train_df = DataFrame(y_train)\n",
    "y_val_df = DataFrame(y_val)\n",
    "\n",
    "y_val_df.value_counts()"
   ]
  },
  {
   "cell_type": "code",
   "execution_count": 123,
   "metadata": {},
   "outputs": [
    {
     "name": "stderr",
     "output_type": "stream",
     "text": [
      "/home/mserrao/dd/ml/project/venv/lib/python3.10/site-packages/torchvision/transforms/v2/_deprecated.py:43: UserWarning: The transform `ToTensor()` is deprecated and will be removed in a future release. Instead, please use `v2.Compose([v2.ToImage(), v2.ToDtype(torch.float32, scale=True)])`.\n",
      "  warnings.warn(\n"
     ]
    }
   ],
   "source": [
    "norm_params=(0.5,0.5,0.5)\n",
    "augmentations = T.Compose([\n",
    "    T.ToPILImage(),\n",
    "    T.ColorJitter(0.05,0.05,0.05,0.05),\n",
    "    T.RandomHorizontalFlip(),\n",
    "    T.RandomVerticalFlip(),\n",
    "    T.RandomRotation(20),\n",
    "    T.ToTensor(),\n",
    "    T.Normalize(norm_params,norm_params),\n",
    "])\n",
    "\n",
    "def augment(X, y):\n",
    "    aug_X = torch.empty((0,3,28,28))\n",
    "    aug_y=[]\n",
    "    for i, (image, label) in tqdm(enumerate(zip(X,y))):\n",
    "        aug_X = torch.cat((aug_X, image.unsqueeze(0)), 0)\n",
    "        aug_y.append(label)    \n",
    "        if label == 1:\n",
    "            aug_X = torch.cat((aug_X, image.unsqueeze(0)), 0)\n",
    "            aug_y.append(label)\n",
    "            for _ in range(4):\n",
    "                aug_X = torch.cat((aug_X, augmentations(image).unsqueeze(0)), 0)\n",
    "                aug_y.append(label)\n",
    "    return aug_X, np.array(aug_y)"
   ]
  },
  {
   "cell_type": "code",
   "execution_count": 124,
   "metadata": {},
   "outputs": [
    {
     "name": "stderr",
     "output_type": "stream",
     "text": [
      "310it [00:00, 552.08it/s]"
     ]
    },
    {
     "name": "stderr",
     "output_type": "stream",
     "text": [
      "5003it [01:01, 81.91it/s] \n"
     ]
    },
    {
     "data": {
      "text/plain": [
       "(torch.Size([8688, 3, 28, 28]), (8688,))"
      ]
     },
     "execution_count": 124,
     "metadata": {},
     "output_type": "execute_result"
    }
   ],
   "source": [
    "X_train, y_train = augment(X_train,y_train)\n",
    "X_train.shape, y_train.shape"
   ]
  }
 ],
 "metadata": {
  "kernelspec": {
   "display_name": "venv",
   "language": "python",
   "name": "python3"
  },
  "language_info": {
   "codemirror_mode": {
    "name": "ipython",
    "version": 3
   },
   "file_extension": ".py",
   "mimetype": "text/x-python",
   "name": "python",
   "nbconvert_exporter": "python",
   "pygments_lexer": "ipython3",
   "version": "3.10.7"
  }
 },
 "nbformat": 4,
 "nbformat_minor": 2
}
